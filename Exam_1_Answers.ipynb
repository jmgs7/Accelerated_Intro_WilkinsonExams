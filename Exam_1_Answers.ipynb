{
 "cells": [
  {
   "cell_type": "markdown",
   "metadata": {},
   "source": [
    "## Problem 2\n",
    "\n",
    "Create a directory listing command that shows:\n",
    "\n",
    "* the ownership of the file\n",
    "* it's file-size, in Megabytes (i.e. human readable)\n",
    "\n",
    "then:\n",
    "\n",
    "* in words (in a Markdown box), describe the _permissions_ on that file (read/write/execute) for user (usuario), group (usuario), and \"anyone\": \n",
    "\n",
    "Permissions granted for read, write and execute for users, groups and anyone."
   ]
  },
  {
   "cell_type": "code",
   "execution_count": 7,
   "metadata": {
    "vscode": {
     "languageId": "shellscript"
    }
   },
   "outputs": [
    {
     "name": "stdout",
     "output_type": "stream",
     "text": [
      "total 24K\n",
      "drwxrwxr-x 3 usuario usuario 4,0K nov 15 13:56 Accelerated_Advanced_Python_weeks3_4-2022\n",
      "drwxrwxr-x 2 usuario usuario 4,0K sep 25  2019 Accelerated_Advanced_Python_weeks3_4-OLD\n",
      "drwxrwxr-x 3 usuario usuario 4,0K nov 16 13:25 Accelerated_Intro_to_CompBio_Part_1\n",
      "drwxrwxr-x 3 usuario usuario 4,0K nov 16 08:50 Accelerated_Intro_to_CompBio_Part_2\n",
      "drwxrwxr-x 3 usuario usuario 4,0K nov 16 13:29 Accelerated_Intro_WilkinsonExams\n",
      "-rw-rw-r-- 1 usuario usuario 1,7K nov 16 13:54 Exam_1_Answers.ipynb\n"
     ]
    }
   ],
   "source": [
    "ls -lh"
   ]
  },
  {
   "cell_type": "markdown",
   "metadata": {},
   "source": [
    "## Problem 3\n",
    "\n",
    "* Create a command that outputs only the \"header\" line of Locus_Germplasm_Phenotype_20130122.txt"
   ]
  },
  {
   "cell_type": "code",
   "execution_count": 11,
   "metadata": {
    "vscode": {
     "languageId": "shellscript"
    }
   },
   "outputs": [
    {
     "name": "stdout",
     "output_type": "stream",
     "text": [
      "Accelerated_Advanced_Python_weeks3_4-2022  Accelerated_Intro_to_CompBio_Part_2\n",
      "Accelerated_Advanced_Python_weeks3_4-OLD   Accelerated_Intro_WilkinsonExams\n",
      "Accelerated_Intro_to_CompBio_Part_1        Exam_1_Answers.ipynb\n"
     ]
    }
   ],
   "source": [
    "mv Exams"
   ]
  },
  {
   "cell_type": "code",
   "execution_count": 10,
   "metadata": {
    "vscode": {
     "languageId": "shellscript"
    }
   },
   "outputs": [
    {
     "name": "stdout",
     "output_type": "stream",
     "text": [
      "head: cannot open 'Locus_Germplasm_Phenotype_20130122.txt' for reading: No such file or directory\n"
     ]
    },
    {
     "ename": "",
     "evalue": "1",
     "output_type": "error",
     "traceback": []
    }
   ],
   "source": [
    "head -1 Locus_Germplasm_Phenotype_20130122.txt"
   ]
  }
 ],
 "metadata": {
  "kernelspec": {
   "display_name": "Bash",
   "language": "bash",
   "name": "bash"
  },
  "language_info": {
   "codemirror_mode": "shell",
   "file_extension": ".sh",
   "mimetype": "text/x-sh",
   "name": "bash"
  }
 },
 "nbformat": 4,
 "nbformat_minor": 2
}
